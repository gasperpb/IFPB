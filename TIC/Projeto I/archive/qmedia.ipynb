{
 "cells": [
  {
   "cell_type": "code",
   "execution_count": 1,
   "metadata": {},
   "outputs": [],
   "source": [
    "import pandas as pd\n",
    "import numpy as np\n",
    "import math\n",
    "\n",
    "\n"
   ]
  },
  {
   "cell_type": "markdown",
   "metadata": {},
   "source": [
    "# 1-qual a quantidade média de auto informação por palavra e de informação por mensagem em cada dataset?"
   ]
  },
  {
   "cell_type": "code",
   "execution_count": 8,
   "metadata": {},
   "outputs": [
    {
     "name": "stdout",
     "output_type": "stream",
     "text": [
      "Average self-information per word in dataset 1: 19.576904454225275\n",
      "Average self-information per word in dataset 2: 13.930513002385\n",
      "Average self-information per word in dataset 3: 15.195524890131612\n",
      "Average self-information per word in dataset 4: 15.907800106068247\n",
      "Average self-information per message in dataset 1: 19.576904454225275\n",
      "Average self-information per message in dataset 2: 13.930513002385\n",
      "Average self-information per message in dataset 3: 15.195524890131612\n",
      "Average self-information per message in dataset 4: 15.907800106068247\n"
     ]
    }
   ],
   "source": [
    "# Load the datasets\n",
    "df1 = pd.read_csv('NoThemeTweets.csv', encoding='latin-1')\n",
    "df2 = pd.read_csv('TweetsNeutralHash.csv',encoding='latin-1')\n",
    "df3 = pd.read_csv('TweetsNeutralNews.csv',encoding='latin-1')\n",
    "df4 = pd.read_csv('TweetsWithTheme.csv',encoding='latin-1')\n",
    "\n",
    "# Calculate the self-information of each word in each dataset\n",
    "def calculate_self_information(df):\n",
    "    # Calculate the frequency of each word\n",
    "    word_counts = df['tweet_text'].value_counts()\n",
    "    total_words = word_counts.sum()\n",
    "\n",
    "    # Calculate the probability of each word\n",
    "    word_probs = word_counts / total_words\n",
    "\n",
    "    #\n",
    "    self_information = -np.log2(word_probs)\n",
    "\n",
    "    return self_information\n",
    "\n",
    "self_information1 = calculate_self_information(df1)\n",
    "self_information2 = calculate_self_information(df2)\n",
    "self_information3 = calculate_self_information(df3)\n",
    "self_information4 = calculate_self_information(df4)\n",
    "\n",
    "\n",
    "# Calculate the average self-information per word in each dataset\n",
    "avg_self_information1 = self_information1.mean()\n",
    "avg_self_information2 = self_information2.mean()\n",
    "avg_self_information3 = self_information3.mean()\n",
    "avg_self_information4 = self_information4.mean()\n",
    "\n",
    "# Calculate the self-information of each message in each dataset\n",
    "def calculate_message_self_information(df):\n",
    "    # Calculate the frequency of each message\n",
    "    message_counts = df['tweet_text'].value_counts()\n",
    "    total_messages = message_counts.sum()\n",
    "\n",
    "    # Calculate the probability of each message\n",
    "    message_probs = message_counts / total_messages\n",
    "\n",
    "    # Calculate the self-information of each message\n",
    "    self_information = -np.log2(message_probs)\n",
    "\n",
    "    return self_information\n",
    "\n",
    "message_self_information1 = calculate_message_self_information(df1)\n",
    "message_self_information2 = calculate_message_self_information(df2)\n",
    "message_self_information3 = calculate_message_self_information(df3)\n",
    "message_self_information4 = calculate_message_self_information(df4)\n",
    "\n",
    "# a entropia da mensagem (H(X))\n",
    "\n",
    "avg_message_self_information1 = message_self_information1.mean()\n",
    "avg_message_self_information2 = message_self_information2.mean()\n",
    "avg_message_self_information3 = message_self_information3.mean()\n",
    "avg_message_self_information4 = message_self_information4.mean()\n",
    "\n",
    "\n",
    "\n",
    "print(\"Average self-information per word in dataset 1:\", avg_self_information1)\n",
    "print(\"Average self-information per word in dataset 2:\", avg_self_information2)\n",
    "print(\"Average self-information per word in dataset 3:\", avg_self_information3)\n",
    "print(\"Average self-information per word in dataset 4:\", avg_self_information4)\n",
    "print(\"Average self-information per message in dataset 1:\", avg_message_self_information1)\n",
    "print(\"Average self-information per message in dataset 2:\", avg_message_self_information2)\n",
    "print(\"Average self-information per message in dataset 3:\", avg_message_self_information3)\n",
    "print(\"Average self-information per message in dataset 4:\", avg_message_self_information4)"
   ]
  },
  {
   "cell_type": "markdown",
   "metadata": {},
   "source": [
    "# 2-existe uma variação nessas medidas quando os twittes são neutros, positivos ou negativos?"
   ]
  },
  {
   "cell_type": "code",
   "execution_count": 5,
   "metadata": {},
   "outputs": [
    {
     "name": "stdout",
     "output_type": "stream",
     "text": [
      "Sentiment: Negativo\n",
      "Average self-information per word: 14.813063876860555\n",
      "Average self-information per message: 14.813063876860555\n",
      "Sentiment: Positivo\n",
      "Average self-information per word: 14.996697329901679\n",
      "Average self-information per message: 14.996697329901679\n"
     ]
    }
   ],
   "source": [
    "# Group the tweets by sentiment\n",
    "sentiment_groups = df4.groupby('sentiment')\n",
    "\n",
    "# Calculate the average self-information per word and per message for each group\n",
    "for sentiment, group in sentiment_groups:\n",
    "    self_information = calculate_self_information(group)\n",
    "    avg_self_information = self_information.mean()\n",
    "    message_self_information = calculate_message_self_information(group)\n",
    "    avg_message_self_information = message_self_information.mean()\n",
    "    print(\"Sentiment:\", sentiment)\n",
    "    print(\"Average self-information per word:\", avg_self_information)\n",
    "    print(\"Average self-information per message:\", avg_message_self_information)\n"
   ]
  },
  {
   "cell_type": "markdown",
   "metadata": {},
   "source": [
    "# 3- o que é possível afirmar com relação a twiites com temas, usando informação como medida?"
   ]
  },
  {
   "cell_type": "code",
   "execution_count": 6,
   "metadata": {},
   "outputs": [
    {
     "name": "stdout",
     "output_type": "stream",
     "text": [
      "Average self-information per word in tweets with themes: 15.907800106068247\n",
      "Average self-information per message in tweets with themes: 15.907800106068247\n"
     ]
    }
   ],
   "source": [
    "# Load the dataset\n",
    "df = pd.read_csv('TweetsWithTheme.csv', encoding='latin-1')\n",
    "\n",
    "# Calculate the self-information of each word\n",
    "self_information = calculate_self_information(df)\n",
    "\n",
    "# Calculate the average self-information per word\n",
    "avg_self_information = self_information.mean()\n",
    "\n",
    "# Calcula a informação própria de cada mensagem\n",
    "message_self_information = calculate_message_self_information(df)\n",
    "\n",
    "# Calcula a entropia da mensagem (H(X))\n",
    "avg_message_self_information = message_self_information.mean()\n",
    "\n",
    "print(\"Average self-information per word in tweets with themes:\", avg_self_information)\n",
    "print(\"Average self-information per message in tweets with themes:\", avg_message_self_information)  \n"
   ]
  },
  {
   "cell_type": "markdown",
   "metadata": {},
   "source": [
    "# 4- se é possível detectar novos usuários usando medidas de informação como parâmetro?"
   ]
  },
  {
   "cell_type": "code",
   "execution_count": 7,
   "metadata": {},
   "outputs": [
    {
     "ename": "AttributeError",
     "evalue": "'NoneType' object has no attribute 'mean'",
     "output_type": "error",
     "traceback": [
      "\u001b[1;31m---------------------------------------------------------------------------\u001b[0m",
      "\u001b[1;31mAttributeError\u001b[0m                            Traceback (most recent call last)",
      "\u001b[1;32mf:\\IFPB\\TIC\\Projeto 1\\archive\\qmedia.ipynb Cell 9\u001b[0m line \u001b[0;36m1\n\u001b[0;32m     <a href='vscode-notebook-cell:/f%3A/IFPB/TIC/Projeto%201/archive/qmedia.ipynb#X11sZmlsZQ%3D%3D?line=11'>12</a>\u001b[0m self_information \u001b[39m=\u001b[39m calculate_self_information(df)\n\u001b[0;32m     <a href='vscode-notebook-cell:/f%3A/IFPB/TIC/Projeto%201/archive/qmedia.ipynb#X11sZmlsZQ%3D%3D?line=13'>14</a>\u001b[0m \u001b[39m# Calculate the average self-information per word\u001b[39;00m\n\u001b[1;32m---> <a href='vscode-notebook-cell:/f%3A/IFPB/TIC/Projeto%201/archive/qmedia.ipynb#X11sZmlsZQ%3D%3D?line=14'>15</a>\u001b[0m avg_self_information \u001b[39m=\u001b[39m self_information\u001b[39m.\u001b[39;49mmean()\n\u001b[0;32m     <a href='vscode-notebook-cell:/f%3A/IFPB/TIC/Projeto%201/archive/qmedia.ipynb#X11sZmlsZQ%3D%3D?line=16'>17</a>\u001b[0m \u001b[39m# Calculate the self-information of each message\u001b[39;00m\n\u001b[0;32m     <a href='vscode-notebook-cell:/f%3A/IFPB/TIC/Projeto%201/archive/qmedia.ipynb#X11sZmlsZQ%3D%3D?line=17'>18</a>\u001b[0m \u001b[39mdef\u001b[39;00m \u001b[39mcalculate_message_self_information\u001b[39m(df):\n\u001b[0;32m     <a href='vscode-notebook-cell:/f%3A/IFPB/TIC/Projeto%201/archive/qmedia.ipynb#X11sZmlsZQ%3D%3D?line=18'>19</a>\u001b[0m     \u001b[39m# Implement your message self-information calculation logic here\u001b[39;00m\n",
      "\u001b[1;31mAttributeError\u001b[0m: 'NoneType' object has no attribute 'mean'"
     ]
    }
   ],
   "source": [
    "\n",
    "from sklearn.cluster import KMeans\n",
    "from sklearn.metrics import silhouette_score\n",
    "\n",
    "# Load the dataset\n",
    "df = pd.read_csv('TweetsWithTheme.csv', encoding='latin-1')\n",
    "\n",
    "# Calcula a self-information de cada palavra\n",
    "def calculate_self_information(df):\n",
    "    # Implement your self-information calculation logic here\n",
    "    pass\n",
    "\n",
    "self_information = calculate_self_information(df)\n",
    "\n",
    "# Calcula a media self-information por palavra\n",
    "avg_self_information = self_information.mean()\n",
    "\n",
    "# Calcula a entropia da mensagem (H(X))\n",
    "def calculate_message_self_information(df):\n",
    "    # Implement your message self-information calculation logic here\n",
    "    pass\n",
    "\n",
    "message_self_information = calculate_message_self_information(df)\n",
    "\n",
    "# Calcula a media  self-information por mensagem\n",
    "avg_message_self_information = message_self_information.mean()\n",
    "\n",
    "# Cria a matrix\n",
    "X = df[['tweet_text']]\n",
    "X['avg_self_information'] = avg_self_information\n",
    "X['avg_message_self_information'] = avg_message_self_information\n",
    "\n",
    "# Cluster o dataset\n",
    "n_clusters = 2  # Change the number of clusters to 2 or more\n",
    "kmeans = KMeans(n_clusters=n_clusters)\n",
    "X['cluster'] = kmeans.fit_predict(X[['avg_self_information', 'avg_message_self_information']])\n",
    "\n",
    "# Calcula o silhouette score\n",
    "silhouette_avg = silhouette_score(X[['avg_self_information', 'avg_message_self_information']], X['cluster'])\n",
    "print(\"Silhouette score:\", silhouette_avg)\n",
    "\n",
    "# Identifica os novos usuários\n",
    "new_users = X[X['cluster'] == n_clusters - 1]\n",
    "print(\"New users:\", new_users)\n"
   ]
  },
  {
   "cell_type": "code",
   "execution_count": null,
   "metadata": {},
   "outputs": [],
   "source": []
  }
 ],
 "metadata": {
  "kernelspec": {
   "display_name": "Python 3",
   "language": "python",
   "name": "python3"
  },
  "language_info": {
   "codemirror_mode": {
    "name": "ipython",
    "version": 3
   },
   "file_extension": ".py",
   "mimetype": "text/x-python",
   "name": "python",
   "nbconvert_exporter": "python",
   "pygments_lexer": "ipython3",
   "version": "3.11.4"
  }
 },
 "nbformat": 4,
 "nbformat_minor": 2
}
