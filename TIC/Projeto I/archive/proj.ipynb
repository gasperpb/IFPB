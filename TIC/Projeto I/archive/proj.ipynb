{
 "cells": [
  {
   "cell_type": "code",
   "execution_count": 1,
   "id": "0b6d24fc",
   "metadata": {
    "_cell_guid": "b1076dfc-b9ad-4769-8c92-a6c4dae69d19",
    "_uuid": "8f2839f25d086af736a60e9eeb907d3b93b6e0e5",
    "execution": {
     "iopub.execute_input": "2023-11-03T20:14:11.369582Z",
     "iopub.status.busy": "2023-11-03T20:14:11.368899Z",
     "iopub.status.idle": "2023-11-03T20:14:34.001080Z",
     "shell.execute_reply": "2023-11-03T20:14:33.999716Z"
    },
    "papermill": {
     "duration": 22.641573,
     "end_time": "2023-11-03T20:14:34.003889",
     "exception": false,
     "start_time": "2023-11-03T20:14:11.362316",
     "status": "completed"
    },
    "tags": []
   },
   "outputs": [],
   "source": [
    "import pandas as pd\n",
    "\n",
    "import nltk\n",
    "from nltk.stem import WordNetLemmatizer\n",
    "import spacy\n",
    "import sklearn\n",
    "\n",
    "from sklearn.preprocessing import LabelEncoder\n",
    "from sklearn.feature_extraction.text import TfidfVectorizer, CountVectorizer\n",
    "from sklearn.model_selection import train_test_split\n",
    "\n",
    "from sklearn.ensemble import RandomForestClassifier\n",
    "from sklearn.tree import DecisionTreeClassifier\n",
    "\n",
    "from sklearn.metrics import accuracy_score\n",
    "\n"
   ]
  },
  {
   "cell_type": "code",
   "execution_count": 3,
   "id": "4f49fe02",
   "metadata": {
    "execution": {
     "iopub.execute_input": "2023-11-03T20:14:34.017968Z",
     "iopub.status.busy": "2023-11-03T20:14:34.017174Z",
     "iopub.status.idle": "2023-11-03T20:14:34.023775Z",
     "shell.execute_reply": "2023-11-03T20:14:34.022794Z"
    },
    "papermill": {
     "duration": 0.015652,
     "end_time": "2023-11-03T20:14:34.026307",
     "exception": false,
     "start_time": "2023-11-03T20:14:34.010655",
     "status": "completed"
    },
    "tags": []
   },
   "outputs": [
    {
     "data": {
      "text/html": [
       "<div>\n",
       "<style scoped>\n",
       "    .dataframe tbody tr th:only-of-type {\n",
       "        vertical-align: middle;\n",
       "    }\n",
       "\n",
       "    .dataframe tbody tr th {\n",
       "        vertical-align: top;\n",
       "    }\n",
       "\n",
       "    .dataframe thead th {\n",
       "        text-align: right;\n",
       "    }\n",
       "</style>\n",
       "<table border=\"1\" class=\"dataframe\">\n",
       "  <thead>\n",
       "    <tr style=\"text-align: right;\">\n",
       "      <th></th>\n",
       "      <th>tweet_text</th>\n",
       "      <th>sentiment</th>\n",
       "      <th>query_used</th>\n",
       "    </tr>\n",
       "  </thead>\n",
       "  <tbody>\n",
       "    <tr>\n",
       "      <th>0</th>\n",
       "      <td>@Tixaa23 14 para eu ir :)</td>\n",
       "      <td>Positivo</td>\n",
       "      <td>:)</td>\n",
       "    </tr>\n",
       "    <tr>\n",
       "      <th>1</th>\n",
       "      <td>@drexalvarez O meu like eu já dei na época :)</td>\n",
       "      <td>Positivo</td>\n",
       "      <td>:)</td>\n",
       "    </tr>\n",
       "    <tr>\n",
       "      <th>2</th>\n",
       "      <td>Eu só queria conseguir comer alguma coisa pra ...</td>\n",
       "      <td>Positivo</td>\n",
       "      <td>:)</td>\n",
       "    </tr>\n",
       "    <tr>\n",
       "      <th>3</th>\n",
       "      <td>:D que lindo dia !</td>\n",
       "      <td>Positivo</td>\n",
       "      <td>:)</td>\n",
       "    </tr>\n",
       "    <tr>\n",
       "      <th>4</th>\n",
       "      <td>@Primo_Resmungao Pq da pr jeito!!é uma \"oferta...</td>\n",
       "      <td>Positivo</td>\n",
       "      <td>:)</td>\n",
       "    </tr>\n",
       "  </tbody>\n",
       "</table>\n",
       "</div>"
      ],
      "text/plain": [
       "                                          tweet_text sentiment query_used\n",
       "0                          @Tixaa23 14 para eu ir :)  Positivo         :)\n",
       "1      @drexalvarez O meu like eu já dei na época :)  Positivo         :)\n",
       "2  Eu só queria conseguir comer alguma coisa pra ...  Positivo         :)\n",
       "3                                 :D que lindo dia !  Positivo         :)\n",
       "4  @Primo_Resmungao Pq da pr jeito!!é uma \"oferta...  Positivo         :)"
      ]
     },
     "execution_count": 3,
     "metadata": {},
     "output_type": "execute_result"
    }
   ],
   "source": [
    "df = pd.read_csv('NoThemeTweets.csv')\n",
    "df = df.drop([\"id\", \"tweet_date\"], axis=1)\n",
    "df = df[:50000] # 50k rows\n",
    "df.head()"
   ]
  },
  {
   "cell_type": "code",
   "execution_count": 13,
   "id": "25037f5d",
   "metadata": {
    "execution": {
     "iopub.execute_input": "2023-11-03T20:14:34.036905Z",
     "iopub.status.busy": "2023-11-03T20:14:34.036504Z",
     "iopub.status.idle": "2023-11-03T20:14:34.130311Z",
     "shell.execute_reply": "2023-11-03T20:14:34.129149Z"
    },
    "papermill": {
     "duration": 0.103086,
     "end_time": "2023-11-03T20:14:34.133790",
     "exception": false,
     "start_time": "2023-11-03T20:14:34.030704",
     "status": "completed"
    },
    "tags": []
   },
   "outputs": [
    {
     "data": {
      "text/html": [
       "<div>\n",
       "<style scoped>\n",
       "    .dataframe tbody tr th:only-of-type {\n",
       "        vertical-align: middle;\n",
       "    }\n",
       "\n",
       "    .dataframe tbody tr th {\n",
       "        vertical-align: top;\n",
       "    }\n",
       "\n",
       "    .dataframe thead th {\n",
       "        text-align: right;\n",
       "    }\n",
       "</style>\n",
       "<table border=\"1\" class=\"dataframe\">\n",
       "  <thead>\n",
       "    <tr style=\"text-align: right;\">\n",
       "      <th></th>\n",
       "      <th>id</th>\n",
       "      <th>tweet_text</th>\n",
       "      <th>tweet_date</th>\n",
       "      <th>sentiment</th>\n",
       "      <th>query_used</th>\n",
       "    </tr>\n",
       "  </thead>\n",
       "  <tbody>\n",
       "    <tr>\n",
       "      <th>0</th>\n",
       "      <td>1026606627041026050</td>\n",
       "      <td>ela vendo a família :( FUGIDINHA VERA LÚCIA</td>\n",
       "      <td>Mon Aug 06 23:11:07 +0000 2018</td>\n",
       "      <td>Negativo</td>\n",
       "      <td>vera lucia :(</td>\n",
       "    </tr>\n",
       "    <tr>\n",
       "      <th>1</th>\n",
       "      <td>1026266117646561281</td>\n",
       "      <td>Eu odeio o fato que muito provavelmente meu vo...</td>\n",
       "      <td>Mon Aug 06 00:38:04 +0000 2018</td>\n",
       "      <td>Negativo</td>\n",
       "      <td>ciro :(</td>\n",
       "    </tr>\n",
       "    <tr>\n",
       "      <th>2</th>\n",
       "      <td>1025889796097564672</td>\n",
       "      <td>Ciro \"mita\" tanto quanto aquele outro, não que...</td>\n",
       "      <td>Sat Aug 04 23:42:42 +0000 2018</td>\n",
       "      <td>Negativo</td>\n",
       "      <td>ciro :(</td>\n",
       "    </tr>\n",
       "    <tr>\n",
       "      <th>3</th>\n",
       "      <td>1026960047937646598</td>\n",
       "      <td>Raiva do Bolsonaro agora :)</td>\n",
       "      <td>Tue Aug 07 22:35:30 +0000 2018</td>\n",
       "      <td>Positivo</td>\n",
       "      <td>bolsonaro :)</td>\n",
       "    </tr>\n",
       "    <tr>\n",
       "      <th>4</th>\n",
       "      <td>1026447105932623872</td>\n",
       "      <td>Reflexos da alienação petista comandada por Lu...</td>\n",
       "      <td>Mon Aug 06 12:37:15 +0000 2018</td>\n",
       "      <td>Negativo</td>\n",
       "      <td>lula :(</td>\n",
       "    </tr>\n",
       "    <tr>\n",
       "      <th>...</th>\n",
       "      <td>...</td>\n",
       "      <td>...</td>\n",
       "      <td>...</td>\n",
       "      <td>...</td>\n",
       "      <td>...</td>\n",
       "    </tr>\n",
       "    <tr>\n",
       "      <th>61586</th>\n",
       "      <td>1055096632600080384</td>\n",
       "      <td>As concorrentes estão prontas para tudo. :p Lo...</td>\n",
       "      <td>Wed Oct 24 14:00:14 +0000 2018</td>\n",
       "      <td>Positivo</td>\n",
       "      <td>PT :)</td>\n",
       "    </tr>\n",
       "    <tr>\n",
       "      <th>61587</th>\n",
       "      <td>1055204789058002949</td>\n",
       "      <td>@Frases_RCampos @vrr93 Falei de um já pensando...</td>\n",
       "      <td>Wed Oct 24 21:10:01 +0000 2018</td>\n",
       "      <td>Positivo</td>\n",
       "      <td>governo :)</td>\n",
       "    </tr>\n",
       "    <tr>\n",
       "      <th>61588</th>\n",
       "      <td>1054982223793938433</td>\n",
       "      <td>@njg00 @christophssj @pecesiqueira @cauemoura ...</td>\n",
       "      <td>Wed Oct 24 06:25:37 +0000 2018</td>\n",
       "      <td>Positivo</td>\n",
       "      <td>governo :)</td>\n",
       "    </tr>\n",
       "    <tr>\n",
       "      <th>61589</th>\n",
       "      <td>1055144918451187714</td>\n",
       "      <td>que coisa mais triste uma amiga defendendo um ...</td>\n",
       "      <td>Wed Oct 24 17:12:06 +0000 2018</td>\n",
       "      <td>Negativo</td>\n",
       "      <td>fascista :(</td>\n",
       "    </tr>\n",
       "    <tr>\n",
       "      <th>61590</th>\n",
       "      <td>1055068278882791425</td>\n",
       "      <td>@ElevenSports_PT @AneisCinco @putente @sitioco...</td>\n",
       "      <td>Wed Oct 24 12:07:34 +0000 2018</td>\n",
       "      <td>Positivo</td>\n",
       "      <td>PT :)</td>\n",
       "    </tr>\n",
       "  </tbody>\n",
       "</table>\n",
       "<p>61591 rows × 5 columns</p>\n",
       "</div>"
      ],
      "text/plain": [
       "                        id                                         tweet_text  \\\n",
       "0      1026606627041026050        ela vendo a família :( FUGIDINHA VERA LÚCIA   \n",
       "1      1026266117646561281  Eu odeio o fato que muito provavelmente meu vo...   \n",
       "2      1025889796097564672  Ciro \"mita\" tanto quanto aquele outro, não que...   \n",
       "3      1026960047937646598                        Raiva do Bolsonaro agora :)   \n",
       "4      1026447105932623872  Reflexos da alienação petista comandada por Lu...   \n",
       "...                    ...                                                ...   \n",
       "61586  1055096632600080384  As concorrentes estão prontas para tudo. :p Lo...   \n",
       "61587  1055204789058002949  @Frases_RCampos @vrr93 Falei de um já pensando...   \n",
       "61588  1054982223793938433  @njg00 @christophssj @pecesiqueira @cauemoura ...   \n",
       "61589  1055144918451187714  que coisa mais triste uma amiga defendendo um ...   \n",
       "61590  1055068278882791425  @ElevenSports_PT @AneisCinco @putente @sitioco...   \n",
       "\n",
       "                           tweet_date sentiment     query_used  \n",
       "0      Mon Aug 06 23:11:07 +0000 2018  Negativo  vera lucia :(  \n",
       "1      Mon Aug 06 00:38:04 +0000 2018  Negativo        ciro :(  \n",
       "2      Sat Aug 04 23:42:42 +0000 2018  Negativo        ciro :(  \n",
       "3      Tue Aug 07 22:35:30 +0000 2018  Positivo   bolsonaro :)  \n",
       "4      Mon Aug 06 12:37:15 +0000 2018  Negativo        lula :(  \n",
       "...                               ...       ...            ...  \n",
       "61586  Wed Oct 24 14:00:14 +0000 2018  Positivo          PT :)  \n",
       "61587  Wed Oct 24 21:10:01 +0000 2018  Positivo     governo :)  \n",
       "61588  Wed Oct 24 06:25:37 +0000 2018  Positivo     governo :)  \n",
       "61589  Wed Oct 24 17:12:06 +0000 2018  Negativo    fascista :(  \n",
       "61590  Wed Oct 24 12:07:34 +0000 2018  Positivo          PT :)  \n",
       "\n",
       "[61591 rows x 5 columns]"
      ]
     },
     "execution_count": 13,
     "metadata": {},
     "output_type": "execute_result"
    }
   ],
   "source": [
    "lb = LabelEncoder()\n",
    "\n",
    "df[\"sentiment\"] = lb.fit_transform(df[\"sentiment\"])\n",
    "df[\"query_used\"] = lb.fit_transform(df[\"query_used\"])"
   ]
  },
  {
   "cell_type": "code",
   "execution_count": 15,
   "id": "1dac3986",
   "metadata": {
    "execution": {
     "iopub.execute_input": "2023-11-03T20:14:34.145203Z",
     "iopub.status.busy": "2023-11-03T20:14:34.144815Z",
     "iopub.status.idle": "2023-11-03T20:14:35.806188Z",
     "shell.execute_reply": "2023-11-03T20:14:35.805089Z"
    },
    "papermill": {
     "duration": 1.670483,
     "end_time": "2023-11-03T20:14:35.809015",
     "exception": false,
     "start_time": "2023-11-03T20:14:34.138532",
     "status": "completed"
    },
    "tags": []
   },
   "outputs": [
    {
     "ename": "NameError",
     "evalue": "name 're' is not defined",
     "output_type": "error",
     "traceback": [
      "\u001b[1;31m---------------------------------------------------------------------------\u001b[0m",
      "\u001b[1;31mNameError\u001b[0m                                 Traceback (most recent call last)",
      "\u001b[1;32mc:\\Users\\Achilles\\Desktop\\IFPB\\tic\\projeto_1\\archive\\proj.ipynb Cell 4\u001b[0m line \u001b[0;36m1\n\u001b[1;32m----> <a href='vscode-notebook-cell:/c%3A/Users/Achilles/Desktop/IFPB/tic/projeto_1/archive/proj.ipynb#W3sZmlsZQ%3D%3D?line=0'>1</a>\u001b[0m df[\u001b[39m'\u001b[39m\u001b[39mtweet_text\u001b[39m\u001b[39m'\u001b[39m] \u001b[39m=\u001b[39m df[\u001b[39m'\u001b[39;49m\u001b[39mtweet_text\u001b[39;49m\u001b[39m'\u001b[39;49m]\u001b[39m.\u001b[39;49mapply(preprocess_text)\n",
      "File \u001b[1;32m~\\AppData\\Local\\Packages\\PythonSoftwareFoundation.Python.3.10_qbz5n2kfra8p0\\LocalCache\\local-packages\\Python310\\site-packages\\pandas\\core\\series.py:4630\u001b[0m, in \u001b[0;36mSeries.apply\u001b[1;34m(self, func, convert_dtype, args, **kwargs)\u001b[0m\n\u001b[0;32m   4520\u001b[0m \u001b[39mdef\u001b[39;00m \u001b[39mapply\u001b[39m(\n\u001b[0;32m   4521\u001b[0m     \u001b[39mself\u001b[39m,\n\u001b[0;32m   4522\u001b[0m     func: AggFuncType,\n\u001b[1;32m   (...)\u001b[0m\n\u001b[0;32m   4525\u001b[0m     \u001b[39m*\u001b[39m\u001b[39m*\u001b[39mkwargs,\n\u001b[0;32m   4526\u001b[0m ) \u001b[39m-\u001b[39m\u001b[39m>\u001b[39m DataFrame \u001b[39m|\u001b[39m Series:\n\u001b[0;32m   4527\u001b[0m \u001b[39m    \u001b[39m\u001b[39m\"\"\"\u001b[39;00m\n\u001b[0;32m   4528\u001b[0m \u001b[39m    Invoke function on values of Series.\u001b[39;00m\n\u001b[0;32m   4529\u001b[0m \n\u001b[1;32m   (...)\u001b[0m\n\u001b[0;32m   4628\u001b[0m \u001b[39m    dtype: float64\u001b[39;00m\n\u001b[0;32m   4629\u001b[0m \u001b[39m    \"\"\"\u001b[39;00m\n\u001b[1;32m-> 4630\u001b[0m     \u001b[39mreturn\u001b[39;00m SeriesApply(\u001b[39mself\u001b[39;49m, func, convert_dtype, args, kwargs)\u001b[39m.\u001b[39;49mapply()\n",
      "File \u001b[1;32m~\\AppData\\Local\\Packages\\PythonSoftwareFoundation.Python.3.10_qbz5n2kfra8p0\\LocalCache\\local-packages\\Python310\\site-packages\\pandas\\core\\apply.py:1025\u001b[0m, in \u001b[0;36mSeriesApply.apply\u001b[1;34m(self)\u001b[0m\n\u001b[0;32m   1022\u001b[0m     \u001b[39mreturn\u001b[39;00m \u001b[39mself\u001b[39m\u001b[39m.\u001b[39mapply_str()\n\u001b[0;32m   1024\u001b[0m \u001b[39m# self.f is Callable\u001b[39;00m\n\u001b[1;32m-> 1025\u001b[0m \u001b[39mreturn\u001b[39;00m \u001b[39mself\u001b[39;49m\u001b[39m.\u001b[39;49mapply_standard()\n",
      "File \u001b[1;32m~\\AppData\\Local\\Packages\\PythonSoftwareFoundation.Python.3.10_qbz5n2kfra8p0\\LocalCache\\local-packages\\Python310\\site-packages\\pandas\\core\\apply.py:1076\u001b[0m, in \u001b[0;36mSeriesApply.apply_standard\u001b[1;34m(self)\u001b[0m\n\u001b[0;32m   1074\u001b[0m     \u001b[39melse\u001b[39;00m:\n\u001b[0;32m   1075\u001b[0m         values \u001b[39m=\u001b[39m obj\u001b[39m.\u001b[39mastype(\u001b[39mobject\u001b[39m)\u001b[39m.\u001b[39m_values\n\u001b[1;32m-> 1076\u001b[0m         mapped \u001b[39m=\u001b[39m lib\u001b[39m.\u001b[39;49mmap_infer(\n\u001b[0;32m   1077\u001b[0m             values,\n\u001b[0;32m   1078\u001b[0m             f,\n\u001b[0;32m   1079\u001b[0m             convert\u001b[39m=\u001b[39;49m\u001b[39mself\u001b[39;49m\u001b[39m.\u001b[39;49mconvert_dtype,\n\u001b[0;32m   1080\u001b[0m         )\n\u001b[0;32m   1082\u001b[0m \u001b[39mif\u001b[39;00m \u001b[39mlen\u001b[39m(mapped) \u001b[39mand\u001b[39;00m \u001b[39misinstance\u001b[39m(mapped[\u001b[39m0\u001b[39m], ABCSeries):\n\u001b[0;32m   1083\u001b[0m     \u001b[39m# GH#43986 Need to do list(mapped) in order to get treated as nested\u001b[39;00m\n\u001b[0;32m   1084\u001b[0m     \u001b[39m#  See also GH#25959 regarding EA support\u001b[39;00m\n\u001b[0;32m   1085\u001b[0m     \u001b[39mreturn\u001b[39;00m obj\u001b[39m.\u001b[39m_constructor_expanddim(\u001b[39mlist\u001b[39m(mapped), index\u001b[39m=\u001b[39mobj\u001b[39m.\u001b[39mindex)\n",
      "File \u001b[1;32m~\\AppData\\Local\\Packages\\PythonSoftwareFoundation.Python.3.10_qbz5n2kfra8p0\\LocalCache\\local-packages\\Python310\\site-packages\\pandas\\_libs\\lib.pyx:2834\u001b[0m, in \u001b[0;36mpandas._libs.lib.map_infer\u001b[1;34m()\u001b[0m\n",
      "\u001b[1;32mc:\\Users\\Achilles\\Desktop\\IFPB\\tic\\projeto_1\\archive\\proj.ipynb Cell 4\u001b[0m line \u001b[0;36m1\n\u001b[0;32m      <a href='vscode-notebook-cell:/c%3A/Users/Achilles/Desktop/IFPB/tic/projeto_1/archive/proj.ipynb#W3sZmlsZQ%3D%3D?line=1'>2</a>\u001b[0m \u001b[39m\u001b[39m\u001b[39m\"\"\"\u001b[39;00m\n\u001b[0;32m      <a href='vscode-notebook-cell:/c%3A/Users/Achilles/Desktop/IFPB/tic/projeto_1/archive/proj.ipynb#W3sZmlsZQ%3D%3D?line=2'>3</a>\u001b[0m \u001b[39mProcess text by lowercasing, removing URLs, numbers, punctuation, and tokenizing.\u001b[39;00m\n\u001b[0;32m      <a href='vscode-notebook-cell:/c%3A/Users/Achilles/Desktop/IFPB/tic/projeto_1/archive/proj.ipynb#W3sZmlsZQ%3D%3D?line=3'>4</a>\u001b[0m \u001b[39m\u001b[39;00m\n\u001b[1;32m   (...)\u001b[0m\n\u001b[0;32m      <a href='vscode-notebook-cell:/c%3A/Users/Achilles/Desktop/IFPB/tic/projeto_1/archive/proj.ipynb#W3sZmlsZQ%3D%3D?line=8'>9</a>\u001b[0m \u001b[39mstr: The processed text.\u001b[39;00m\n\u001b[0;32m     <a href='vscode-notebook-cell:/c%3A/Users/Achilles/Desktop/IFPB/tic/projeto_1/archive/proj.ipynb#W3sZmlsZQ%3D%3D?line=9'>10</a>\u001b[0m \u001b[39m\"\"\"\u001b[39;00m\n\u001b[0;32m     <a href='vscode-notebook-cell:/c%3A/Users/Achilles/Desktop/IFPB/tic/projeto_1/archive/proj.ipynb#W3sZmlsZQ%3D%3D?line=10'>11</a>\u001b[0m text \u001b[39m=\u001b[39m text\u001b[39m.\u001b[39mlower()\n\u001b[1;32m---> <a href='vscode-notebook-cell:/c%3A/Users/Achilles/Desktop/IFPB/tic/projeto_1/archive/proj.ipynb#W3sZmlsZQ%3D%3D?line=11'>12</a>\u001b[0m text \u001b[39m=\u001b[39m re\u001b[39m.\u001b[39msub(\u001b[39mr\u001b[39m\u001b[39m'\u001b[39m\u001b[39mhttp\u001b[39m\u001b[39m\\\u001b[39m\u001b[39mS+|www\u001b[39m\u001b[39m\\\u001b[39m\u001b[39mS+|https\u001b[39m\u001b[39m\\\u001b[39m\u001b[39mS+\u001b[39m\u001b[39m'\u001b[39m, \u001b[39m'\u001b[39m\u001b[39m'\u001b[39m, text, flags\u001b[39m=\u001b[39mre\u001b[39m.\u001b[39mMULTILINE)\n\u001b[0;32m     <a href='vscode-notebook-cell:/c%3A/Users/Achilles/Desktop/IFPB/tic/projeto_1/archive/proj.ipynb#W3sZmlsZQ%3D%3D?line=12'>13</a>\u001b[0m text \u001b[39m=\u001b[39m re\u001b[39m.\u001b[39msub(\u001b[39mr\u001b[39m\u001b[39m'\u001b[39m\u001b[39m\\\u001b[39m\u001b[39md+\u001b[39m\u001b[39m'\u001b[39m, \u001b[39m'\u001b[39m\u001b[39m'\u001b[39m, text) \u001b[39m# Remove numbers\u001b[39;00m\n\u001b[0;32m     <a href='vscode-notebook-cell:/c%3A/Users/Achilles/Desktop/IFPB/tic/projeto_1/archive/proj.ipynb#W3sZmlsZQ%3D%3D?line=13'>14</a>\u001b[0m text \u001b[39m=\u001b[39m re\u001b[39m.\u001b[39msub(\u001b[39mf\u001b[39m\u001b[39m'\u001b[39m\u001b[39m[\u001b[39m\u001b[39m{\u001b[39;00mre\u001b[39m.\u001b[39mescape(string\u001b[39m.\u001b[39mpunctuation)\u001b[39m}\u001b[39;00m\u001b[39m]\u001b[39m\u001b[39m'\u001b[39m, \u001b[39m'\u001b[39m\u001b[39m \u001b[39m\u001b[39m'\u001b[39m, text)\n",
      "\u001b[1;31mNameError\u001b[0m: name 're' is not defined"
     ]
    }
   ],
   "source": [
    "df['tweet_text'] = df['tweet_text'].apply(preprocess_text)"
   ]
  },
  {
   "cell_type": "code",
   "execution_count": 5,
   "id": "b073c74a",
   "metadata": {
    "execution": {
     "iopub.execute_input": "2023-11-03T20:14:35.821244Z",
     "iopub.status.busy": "2023-11-03T20:14:35.820234Z",
     "iopub.status.idle": "2023-11-03T20:14:35.826719Z",
     "shell.execute_reply": "2023-11-03T20:14:35.825672Z"
    },
    "papermill": {
     "duration": 0.015343,
     "end_time": "2023-11-03T20:14:35.829394",
     "exception": false,
     "start_time": "2023-11-03T20:14:35.814051",
     "status": "completed"
    },
    "tags": []
   },
   "outputs": [],
   "source": [
    "le = LabelEncoder()\n",
    "df['sentiment'] = le.fit_transform(df['sentiment'])"
   ]
  },
  {
   "cell_type": "code",
   "execution_count": 6,
   "id": "bcdb351a",
   "metadata": {
    "execution": {
     "iopub.execute_input": "2023-11-03T20:14:35.840692Z",
     "iopub.status.busy": "2023-11-03T20:14:35.840263Z",
     "iopub.status.idle": "2023-11-03T20:14:36.067976Z",
     "shell.execute_reply": "2023-11-03T20:14:36.066912Z"
    },
    "papermill": {
     "duration": 0.236245,
     "end_time": "2023-11-03T20:14:36.070687",
     "exception": false,
     "start_time": "2023-11-03T20:14:35.834442",
     "status": "completed"
    },
    "tags": []
   },
   "outputs": [],
   "source": [
    "vectorizer = TfidfVectorizer(max_features=5000)\n",
    "X = vectorizer.fit_transform(df['tweet_text'])\n",
    "y = df['sentiment']"
   ]
  },
  {
   "cell_type": "code",
   "execution_count": 7,
   "id": "30ca1fe3",
   "metadata": {
    "execution": {
     "iopub.execute_input": "2023-11-03T20:14:36.081879Z",
     "iopub.status.busy": "2023-11-03T20:14:36.081467Z",
     "iopub.status.idle": "2023-11-03T20:14:36.089838Z",
     "shell.execute_reply": "2023-11-03T20:14:36.088817Z"
    },
    "papermill": {
     "duration": 0.017159,
     "end_time": "2023-11-03T20:14:36.092576",
     "exception": false,
     "start_time": "2023-11-03T20:14:36.075417",
     "status": "completed"
    },
    "tags": []
   },
   "outputs": [],
   "source": [
    "X_train, X_test, y_train, y_test = train_test_split(X, y, test_size=0.2, random_state=42)"
   ]
  },
  {
   "cell_type": "code",
   "execution_count": 8,
   "id": "4f2f6079",
   "metadata": {
    "execution": {
     "iopub.execute_input": "2023-11-03T20:14:36.103308Z",
     "iopub.status.busy": "2023-11-03T20:14:36.102910Z",
     "iopub.status.idle": "2023-11-03T20:14:36.122590Z",
     "shell.execute_reply": "2023-11-03T20:14:36.121464Z"
    },
    "papermill": {
     "duration": 0.028023,
     "end_time": "2023-11-03T20:14:36.125172",
     "exception": false,
     "start_time": "2023-11-03T20:14:36.097149",
     "status": "completed"
    },
    "tags": []
   },
   "outputs": [
    {
     "data": {
      "text/html": [
       "<style>#sk-container-id-1 {color: black;background-color: white;}#sk-container-id-1 pre{padding: 0;}#sk-container-id-1 div.sk-toggleable {background-color: white;}#sk-container-id-1 label.sk-toggleable__label {cursor: pointer;display: block;width: 100%;margin-bottom: 0;padding: 0.3em;box-sizing: border-box;text-align: center;}#sk-container-id-1 label.sk-toggleable__label-arrow:before {content: \"▸\";float: left;margin-right: 0.25em;color: #696969;}#sk-container-id-1 label.sk-toggleable__label-arrow:hover:before {color: black;}#sk-container-id-1 div.sk-estimator:hover label.sk-toggleable__label-arrow:before {color: black;}#sk-container-id-1 div.sk-toggleable__content {max-height: 0;max-width: 0;overflow: hidden;text-align: left;background-color: #f0f8ff;}#sk-container-id-1 div.sk-toggleable__content pre {margin: 0.2em;color: black;border-radius: 0.25em;background-color: #f0f8ff;}#sk-container-id-1 input.sk-toggleable__control:checked~div.sk-toggleable__content {max-height: 200px;max-width: 100%;overflow: auto;}#sk-container-id-1 input.sk-toggleable__control:checked~label.sk-toggleable__label-arrow:before {content: \"▾\";}#sk-container-id-1 div.sk-estimator input.sk-toggleable__control:checked~label.sk-toggleable__label {background-color: #d4ebff;}#sk-container-id-1 div.sk-label input.sk-toggleable__control:checked~label.sk-toggleable__label {background-color: #d4ebff;}#sk-container-id-1 input.sk-hidden--visually {border: 0;clip: rect(1px 1px 1px 1px);clip: rect(1px, 1px, 1px, 1px);height: 1px;margin: -1px;overflow: hidden;padding: 0;position: absolute;width: 1px;}#sk-container-id-1 div.sk-estimator {font-family: monospace;background-color: #f0f8ff;border: 1px dotted black;border-radius: 0.25em;box-sizing: border-box;margin-bottom: 0.5em;}#sk-container-id-1 div.sk-estimator:hover {background-color: #d4ebff;}#sk-container-id-1 div.sk-parallel-item::after {content: \"\";width: 100%;border-bottom: 1px solid gray;flex-grow: 1;}#sk-container-id-1 div.sk-label:hover label.sk-toggleable__label {background-color: #d4ebff;}#sk-container-id-1 div.sk-serial::before {content: \"\";position: absolute;border-left: 1px solid gray;box-sizing: border-box;top: 0;bottom: 0;left: 50%;z-index: 0;}#sk-container-id-1 div.sk-serial {display: flex;flex-direction: column;align-items: center;background-color: white;padding-right: 0.2em;padding-left: 0.2em;position: relative;}#sk-container-id-1 div.sk-item {position: relative;z-index: 1;}#sk-container-id-1 div.sk-parallel {display: flex;align-items: stretch;justify-content: center;background-color: white;position: relative;}#sk-container-id-1 div.sk-item::before, #sk-container-id-1 div.sk-parallel-item::before {content: \"\";position: absolute;border-left: 1px solid gray;box-sizing: border-box;top: 0;bottom: 0;left: 50%;z-index: -1;}#sk-container-id-1 div.sk-parallel-item {display: flex;flex-direction: column;z-index: 1;position: relative;background-color: white;}#sk-container-id-1 div.sk-parallel-item:first-child::after {align-self: flex-end;width: 50%;}#sk-container-id-1 div.sk-parallel-item:last-child::after {align-self: flex-start;width: 50%;}#sk-container-id-1 div.sk-parallel-item:only-child::after {width: 0;}#sk-container-id-1 div.sk-dashed-wrapped {border: 1px dashed gray;margin: 0 0.4em 0.5em 0.4em;box-sizing: border-box;padding-bottom: 0.4em;background-color: white;}#sk-container-id-1 div.sk-label label {font-family: monospace;font-weight: bold;display: inline-block;line-height: 1.2em;}#sk-container-id-1 div.sk-label-container {text-align: center;}#sk-container-id-1 div.sk-container {/* jupyter's `normalize.less` sets `[hidden] { display: none; }` but bootstrap.min.css set `[hidden] { display: none !important; }` so we also need the `!important` here to be able to override the default hidden behavior on the sphinx rendered scikit-learn.org. See: https://github.com/scikit-learn/scikit-learn/issues/21755 */display: inline-block !important;position: relative;}#sk-container-id-1 div.sk-text-repr-fallback {display: none;}</style><div id=\"sk-container-id-1\" class=\"sk-top-container\"><div class=\"sk-text-repr-fallback\"><pre>MultinomialNB()</pre><b>In a Jupyter environment, please rerun this cell to show the HTML representation or trust the notebook. <br />On GitHub, the HTML representation is unable to render, please try loading this page with nbviewer.org.</b></div><div class=\"sk-container\" hidden><div class=\"sk-item\"><div class=\"sk-estimator sk-toggleable\"><input class=\"sk-toggleable__control sk-hidden--visually\" id=\"sk-estimator-id-1\" type=\"checkbox\" checked><label for=\"sk-estimator-id-1\" class=\"sk-toggleable__label sk-toggleable__label-arrow\">MultinomialNB</label><div class=\"sk-toggleable__content\"><pre>MultinomialNB()</pre></div></div></div></div></div>"
      ],
      "text/plain": [
       "MultinomialNB()"
      ]
     },
     "execution_count": 8,
     "metadata": {},
     "output_type": "execute_result"
    }
   ],
   "source": [
    "modelo = MultinomialNB()\n",
    "modelo.fit(X_train, y_train)"
   ]
  },
  {
   "cell_type": "code",
   "execution_count": 9,
   "id": "e754e1b5",
   "metadata": {
    "execution": {
     "iopub.execute_input": "2023-11-03T20:14:36.136650Z",
     "iopub.status.busy": "2023-11-03T20:14:36.136202Z",
     "iopub.status.idle": "2023-11-03T20:14:36.152815Z",
     "shell.execute_reply": "2023-11-03T20:14:36.151622Z"
    },
    "papermill": {
     "duration": 0.02537,
     "end_time": "2023-11-03T20:14:36.155463",
     "exception": false,
     "start_time": "2023-11-03T20:14:36.130093",
     "status": "completed"
    },
    "tags": []
   },
   "outputs": [
    {
     "name": "stdout",
     "output_type": "stream",
     "text": [
      "              precision    recall  f1-score   support\n",
      "\n",
      "           0       0.72      0.93      0.81       500\n",
      "           1       0.91      0.63      0.74       500\n",
      "\n",
      "    accuracy                           0.78      1000\n",
      "   macro avg       0.81      0.78      0.78      1000\n",
      "weighted avg       0.81      0.78      0.78      1000\n",
      "\n"
     ]
    }
   ],
   "source": [
    "y_pred = modelo.predict(X_test)\n",
    "print(classification_report(y_test, y_pred))"
   ]
  },
  {
   "cell_type": "markdown",
   "id": "c70a47be",
   "metadata": {
    "papermill": {
     "duration": 0.004733,
     "end_time": "2023-11-03T20:14:36.165278",
     "exception": false,
     "start_time": "2023-11-03T20:14:36.160545",
     "status": "completed"
    },
    "tags": []
   },
   "source": [
    "O código implementa um pipeline básico para análise de sentimentos de tweets em português, utilizando TF-IDF para feature extraction e um modelo Naive Bayes para classificação. A avaliação é feita com métricas padrão de classificação. \n",
    "\n",
    "Os resultados obtidos pelo relatório de classificação sugerem que o modelo tem um desempenho desigual em prever sentimentos negativos (0) e positivos (1). Com uma precisão de 72% para sentimentos negativos e 91% para positivos, o modelo é mais confiável ao prever um tweet como positivo quando realmente é. No entanto, a revocação (recall) para sentimentos negativos é significativamente maior (93%) do que para positivos (63%), indicando que o modelo é mais capaz de identificar todos os casos relevantes de sentimentos negativos.\n",
    "\n",
    "A pontuação F1, que é a média harmônica entre precisão e revocação, está mais equilibrada para sentimentos negativos (0.81) do que para positivos (0.74), refletindo uma tendência do modelo em performar melhor na identificação de tweets negativos.\n",
    "\n",
    "Com relação a melhorias, o codigo apresentado embora faça o uso da tokenização NLTK, ele não remove stopwords, oque poderia ser relevante para uma melhora no desempenho e performance do modelo, seria uma melhoria que valeria a inclusão para fins de comparação e acompanhamento dos scores gerados. O codigo também não faz tratamento de emoji e slangs, então esses pontos poderiam ser incluidos na fase de pre processamento. Também não há um processo de feture selection, que determine quais termos são mais significativos no processo de analise de sentimentos. \n",
    "\n",
    "No nível de modelagem o código poderia utilizar validação cruzada para garantir que o modelo seja estável e para estimar o desempenho em uma amostra independente de dados. O código usa o modelo Naive Bayes Multinomial com os parâmetros padrão e poderia haver uma busca por hiperparâmetros para melhorar o desempenho do modelo. \n",
    "\n",
    "No pós processamento o relatório de classificação é impresso, mas não há uma análise subsequente dos resultados, o que poderia incluir a investigação de erros de classificação para entender onde o modelo está tendo problemas. As problemáticas com relação a reprodutibilidade e escalabilidade podem ser tomadas como o fato de o código não salvar o modelo treinado ou vetorizado, oque seria útil para aplicação do modelo a novos dados sem a necessidade de haver um retreinamento. \n"
   ]
  }
 ],
 "metadata": {
  "kernelspec": {
   "display_name": "Python 3",
   "language": "python",
   "name": "python3"
  },
  "language_info": {
   "codemirror_mode": {
    "name": "ipython",
    "version": 3
   },
   "file_extension": ".py",
   "mimetype": "text/x-python",
   "name": "python",
   "nbconvert_exporter": "python",
   "pygments_lexer": "ipython3",
   "version": "3.10.11"
  },
  "papermill": {
   "default_parameters": {},
   "duration": 29.066439,
   "end_time": "2023-11-03T20:14:36.791940",
   "environment_variables": {},
   "exception": null,
   "input_path": "__notebook__.ipynb",
   "output_path": "__notebook__.ipynb",
   "parameters": {},
   "start_time": "2023-11-03T20:14:07.725501",
   "version": "2.4.0"
  }
 },
 "nbformat": 4,
 "nbformat_minor": 5
}
